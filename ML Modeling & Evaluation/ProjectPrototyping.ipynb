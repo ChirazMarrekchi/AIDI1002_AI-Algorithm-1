{
 "cells": [
  {
   "cell_type": "code",
   "execution_count": 1,
   "id": "4bd5dc6e",
   "metadata": {},
   "outputs": [
    {
     "data": {
      "text/html": [
       "<div>\n",
       "<style scoped>\n",
       "    .dataframe tbody tr th:only-of-type {\n",
       "        vertical-align: middle;\n",
       "    }\n",
       "\n",
       "    .dataframe tbody tr th {\n",
       "        vertical-align: top;\n",
       "    }\n",
       "\n",
       "    .dataframe thead th {\n",
       "        text-align: right;\n",
       "    }\n",
       "</style>\n",
       "<table border=\"1\" class=\"dataframe\">\n",
       "  <thead>\n",
       "    <tr style=\"text-align: right;\">\n",
       "      <th></th>\n",
       "      <th>Transaction_date</th>\n",
       "      <th>House_age</th>\n",
       "      <th>Distance_to_MRT_station</th>\n",
       "      <th>No_of_Convenience_Store</th>\n",
       "      <th>Latitde</th>\n",
       "      <th>Longitude</th>\n",
       "      <th>House_price_per_unit_area</th>\n",
       "    </tr>\n",
       "  </thead>\n",
       "  <tbody>\n",
       "    <tr>\n",
       "      <th>0</th>\n",
       "      <td>2012.917</td>\n",
       "      <td>32.0</td>\n",
       "      <td>84.87882</td>\n",
       "      <td>10</td>\n",
       "      <td>24.98298</td>\n",
       "      <td>121.54024</td>\n",
       "      <td>37.9</td>\n",
       "    </tr>\n",
       "    <tr>\n",
       "      <th>1</th>\n",
       "      <td>2012.917</td>\n",
       "      <td>19.5</td>\n",
       "      <td>306.59470</td>\n",
       "      <td>9</td>\n",
       "      <td>24.98034</td>\n",
       "      <td>121.53951</td>\n",
       "      <td>42.2</td>\n",
       "    </tr>\n",
       "    <tr>\n",
       "      <th>2</th>\n",
       "      <td>2013.583</td>\n",
       "      <td>13.3</td>\n",
       "      <td>561.98450</td>\n",
       "      <td>5</td>\n",
       "      <td>24.98746</td>\n",
       "      <td>121.54391</td>\n",
       "      <td>47.3</td>\n",
       "    </tr>\n",
       "    <tr>\n",
       "      <th>3</th>\n",
       "      <td>2013.500</td>\n",
       "      <td>13.3</td>\n",
       "      <td>561.98450</td>\n",
       "      <td>5</td>\n",
       "      <td>24.98746</td>\n",
       "      <td>121.54391</td>\n",
       "      <td>54.8</td>\n",
       "    </tr>\n",
       "    <tr>\n",
       "      <th>4</th>\n",
       "      <td>2012.833</td>\n",
       "      <td>5.0</td>\n",
       "      <td>390.56840</td>\n",
       "      <td>5</td>\n",
       "      <td>24.97937</td>\n",
       "      <td>121.54245</td>\n",
       "      <td>43.1</td>\n",
       "    </tr>\n",
       "    <tr>\n",
       "      <th>...</th>\n",
       "      <td>...</td>\n",
       "      <td>...</td>\n",
       "      <td>...</td>\n",
       "      <td>...</td>\n",
       "      <td>...</td>\n",
       "      <td>...</td>\n",
       "      <td>...</td>\n",
       "    </tr>\n",
       "    <tr>\n",
       "      <th>409</th>\n",
       "      <td>2013.000</td>\n",
       "      <td>13.7</td>\n",
       "      <td>4082.01500</td>\n",
       "      <td>0</td>\n",
       "      <td>24.94155</td>\n",
       "      <td>121.50381</td>\n",
       "      <td>15.4</td>\n",
       "    </tr>\n",
       "    <tr>\n",
       "      <th>410</th>\n",
       "      <td>2012.667</td>\n",
       "      <td>5.6</td>\n",
       "      <td>90.45606</td>\n",
       "      <td>9</td>\n",
       "      <td>24.97433</td>\n",
       "      <td>121.54310</td>\n",
       "      <td>50.0</td>\n",
       "    </tr>\n",
       "    <tr>\n",
       "      <th>411</th>\n",
       "      <td>2013.250</td>\n",
       "      <td>18.8</td>\n",
       "      <td>390.96960</td>\n",
       "      <td>7</td>\n",
       "      <td>24.97923</td>\n",
       "      <td>121.53986</td>\n",
       "      <td>40.6</td>\n",
       "    </tr>\n",
       "    <tr>\n",
       "      <th>412</th>\n",
       "      <td>2013.000</td>\n",
       "      <td>8.1</td>\n",
       "      <td>104.81010</td>\n",
       "      <td>5</td>\n",
       "      <td>24.96674</td>\n",
       "      <td>121.54067</td>\n",
       "      <td>52.5</td>\n",
       "    </tr>\n",
       "    <tr>\n",
       "      <th>413</th>\n",
       "      <td>2013.500</td>\n",
       "      <td>6.5</td>\n",
       "      <td>90.45606</td>\n",
       "      <td>9</td>\n",
       "      <td>24.97433</td>\n",
       "      <td>121.54310</td>\n",
       "      <td>63.9</td>\n",
       "    </tr>\n",
       "  </tbody>\n",
       "</table>\n",
       "<p>414 rows × 7 columns</p>\n",
       "</div>"
      ],
      "text/plain": [
       "     Transaction_date  House_age  Distance_to_MRT_station  \\\n",
       "0            2012.917       32.0                 84.87882   \n",
       "1            2012.917       19.5                306.59470   \n",
       "2            2013.583       13.3                561.98450   \n",
       "3            2013.500       13.3                561.98450   \n",
       "4            2012.833        5.0                390.56840   \n",
       "..                ...        ...                      ...   \n",
       "409          2013.000       13.7               4082.01500   \n",
       "410          2012.667        5.6                 90.45606   \n",
       "411          2013.250       18.8                390.96960   \n",
       "412          2013.000        8.1                104.81010   \n",
       "413          2013.500        6.5                 90.45606   \n",
       "\n",
       "     No_of_Convenience_Store   Latitde  Longitude  House_price_per_unit_area  \n",
       "0                         10  24.98298  121.54024                       37.9  \n",
       "1                          9  24.98034  121.53951                       42.2  \n",
       "2                          5  24.98746  121.54391                       47.3  \n",
       "3                          5  24.98746  121.54391                       54.8  \n",
       "4                          5  24.97937  121.54245                       43.1  \n",
       "..                       ...       ...        ...                        ...  \n",
       "409                        0  24.94155  121.50381                       15.4  \n",
       "410                        9  24.97433  121.54310                       50.0  \n",
       "411                        7  24.97923  121.53986                       40.6  \n",
       "412                        5  24.96674  121.54067                       52.5  \n",
       "413                        9  24.97433  121.54310                       63.9  \n",
       "\n",
       "[414 rows x 7 columns]"
      ]
     },
     "execution_count": 1,
     "metadata": {},
     "output_type": "execute_result"
    }
   ],
   "source": [
    "import pandas as pd\n",
    "import numpy as np\n",
    "\n",
    "\n",
    "columns = [ 'No.','Transaction_date','House_age','Distance_to_MRT_station','No_of_Convenience_Store', 'Latitde', 'Longitude', 'House_price_per_unit_area']\n",
    "# Read the data set of \"Real Estate\" in data.\n",
    "data= pd.read_csv('Real estate.csv',names=columns,sep=',', skiprows=1, )\n",
    "data.pop('No.')\n",
    "\n",
    "# Printing the data\n",
    "data"
   ]
  },
  {
   "cell_type": "code",
   "execution_count": 2,
   "id": "34ca5d50",
   "metadata": {},
   "outputs": [
    {
     "data": {
      "text/plain": [
       "0      37.9\n",
       "1      42.2\n",
       "2      47.3\n",
       "3      54.8\n",
       "4      43.1\n",
       "       ... \n",
       "409    15.4\n",
       "410    50.0\n",
       "411    40.6\n",
       "412    52.5\n",
       "413    63.9\n",
       "Name: House_price_per_unit_area, Length: 414, dtype: float64"
      ]
     },
     "execution_count": 2,
     "metadata": {},
     "output_type": "execute_result"
    }
   ],
   "source": [
    "#Get X and Y variables\n",
    "columns = data.columns\n",
    "columns = columns.drop(\"House_price_per_unit_area\")\n",
    "X_data = data[columns]\n",
    "\n",
    "Y_data = data['House_price_per_unit_area']\n",
    "Y_data"
   ]
  },
  {
   "cell_type": "code",
   "execution_count": 3,
   "id": "c7be597d",
   "metadata": {},
   "outputs": [
    {
     "name": "stdout",
     "output_type": "stream",
     "text": [
      "data before duplicate rows removal  (414, 7)\n",
      "data after duplicate rows removal  (394, 7)\n"
     ]
    }
   ],
   "source": [
    "#is there any duplicate lines ? \n",
    "\n",
    "print('data before duplicate rows removal ', data.shape) \n",
    "data = data.drop_duplicates(subset = columns)\n",
    "print('data after duplicate rows removal ', data.shape) \n",
    "#no duplicate line "
   ]
  },
  {
   "cell_type": "markdown",
   "id": "e38b7f2c",
   "metadata": {},
   "source": [
    "# Modelling\n"
   ]
  },
  {
   "cell_type": "code",
   "execution_count": 4,
   "id": "59903ddc",
   "metadata": {},
   "outputs": [],
   "source": [
    "from sklearn import neighbors\n",
    "\n",
    "from sklearn.linear_model import LinearRegression\n",
    "\n",
    "from sklearn.model_selection import train_test_split\n",
    "from sklearn import metrics"
   ]
  },
  {
   "cell_type": "code",
   "execution_count": 24,
   "id": "e81b3887-a944-4389-946c-6d60a19a40ea",
   "metadata": {},
   "outputs": [
    {
     "data": {
      "text/plain": [
       "RandomForestRegressor(random_state=0)"
      ]
     },
     "execution_count": 24,
     "metadata": {},
     "output_type": "execute_result"
    }
   ],
   "source": []
  },
  {
   "cell_type": "code",
   "execution_count": 2,
   "id": "d56ecb49-15bf-40a7-ae80-30cf4cdf7b9a",
   "metadata": {},
   "outputs": [],
   "source": []
  },
  {
   "cell_type": "code",
   "execution_count": 2,
   "id": "dc885b67-8f2b-4c7a-be9a-0def4ba7fc01",
   "metadata": {},
   "outputs": [],
   "source": []
  },
  {
   "cell_type": "code",
   "execution_count": 92,
   "id": "c5f505c6",
   "metadata": {},
   "outputs": [
    {
     "data": {
      "text/plain": [
       "0.6915687041556055"
      ]
     },
     "execution_count": 92,
     "metadata": {},
     "output_type": "execute_result"
    }
   ],
   "source": [
    "#apply cross validation to compare between Models, KNN , LR , RF\n",
    "\n",
    "#import required packages\n",
    "from sklearn import neighbors\n",
    "from sklearn.metrics import mean_squared_error \n",
    "from math import sqrt\n",
    "import matplotlib.pyplot as plt\n",
    "%matplotlib inline\n",
    "\n",
    "names = []\n",
    "scores = []\n",
    "X_train, X_test, y_train, y_test = train_test_split(X_data, Y_data, test_size=0.3) # 70% training and 30% test\n",
    "\n",
    "for K in range(50):\n",
    "    K = K+1\n",
    "    model = neighbors.KNeighborsRegressor(n_neighbors = K)\n",
    "\n",
    "    model.fit(X_train, y_train)  #fit the model\n",
    "    scores.append(model.score(X_test, y_test)) #printing score\n",
    "\n",
    "score_knn = np.max(scores)\n",
    "score_knn "
   ]
  },
  {
   "cell_type": "code",
   "execution_count": 75,
   "id": "037b784a",
   "metadata": {},
   "outputs": [
    {
     "data": {
      "text/plain": [
       "0.5958610259984762"
      ]
     },
     "execution_count": 75,
     "metadata": {},
     "output_type": "execute_result"
    }
   ],
   "source": [
    "# Fitting Random Forest Regression to the dataset\n",
    "# import the regressor\n",
    "from sklearn.ensemble import RandomForestRegressor\n",
    "  \n",
    " # create regressor object\n",
    "regressor = RandomForestRegressor(n_estimators = 100, random_state = 0)\n",
    "  \n",
    "# fit the regressor with x and y data\n",
    "regressor.fit(X_train, y_train) \n",
    "score_RF = regressor.score(X_test, y_test)\n",
    "score_RF"
   ]
  },
  {
   "cell_type": "code",
   "execution_count": 89,
   "id": "5a394c33",
   "metadata": {},
   "outputs": [
    {
     "name": "stdout",
     "output_type": "stream",
     "text": [
      "[ 5.68173791e+00 -2.20162069e-01 -4.83826602e-03  1.06556759e+00\n",
      "  1.88504742e+02 -1.52270824e+01]\n",
      "-14251.537015919375\n"
     ]
    }
   ],
   "source": [
    "#Linear Regression \n",
    "\n",
    "L_regressor = LinearRegression() #training the algorithm  \n",
    "L_regressor.fit(X_train, y_train) #training the algorithm\n",
    "\n",
    "#For retrieving the slope:\n",
    "print(L_regressor.coef_)\n",
    "\n",
    "#To retrieve the intercept:\n",
    "print(L_regressor.intercept_)"
   ]
  },
  {
   "cell_type": "code",
   "execution_count": 90,
   "id": "07819f8f",
   "metadata": {},
   "outputs": [
    {
     "data": {
      "text/plain": [
       "0.6839266427689739"
      ]
     },
     "execution_count": 90,
     "metadata": {},
     "output_type": "execute_result"
    }
   ],
   "source": [
    "LR_score = L_regressor.score(X_test, y_test)\n",
    "LR_score"
   ]
  },
  {
   "cell_type": "code",
   "execution_count": 106,
   "id": "4397febe",
   "metadata": {},
   "outputs": [
    {
     "data": {
      "text/plain": [
       "0.68418699325412"
      ]
     },
     "execution_count": 106,
     "metadata": {},
     "output_type": "execute_result"
    }
   ],
   "source": [
    "#polynomial regression \n",
    "\n",
    "\n",
    "from sklearn.preprocessing import PolynomialFeatures\n",
    "from sklearn.metrics import mean_squared_error, r2_score\n",
    "\n",
    "polynomial_features= PolynomialFeatures(degree=2)\n",
    "x_poly = polynomial_features.fit_transform(X_train)\n",
    "model = LinearRegression()\n",
    "model.fit(x_poly, y_train)\n",
    "y_poly_pred = model.predict(x_poly)\n",
    "\n",
    "\n",
    "poly_score = r2_score(y_train,y_poly_pred)\n",
    "poly_score"
   ]
  },
  {
   "cell_type": "code",
   "execution_count": 107,
   "id": "3b579920",
   "metadata": {},
   "outputs": [
    {
     "data": {
      "text/html": [
       "<div>\n",
       "<style scoped>\n",
       "    .dataframe tbody tr th:only-of-type {\n",
       "        vertical-align: middle;\n",
       "    }\n",
       "\n",
       "    .dataframe tbody tr th {\n",
       "        vertical-align: top;\n",
       "    }\n",
       "\n",
       "    .dataframe thead th {\n",
       "        text-align: right;\n",
       "    }\n",
       "</style>\n",
       "<table border=\"1\" class=\"dataframe\">\n",
       "  <thead>\n",
       "    <tr style=\"text-align: right;\">\n",
       "      <th></th>\n",
       "      <th>Name</th>\n",
       "      <th>Score</th>\n",
       "    </tr>\n",
       "  </thead>\n",
       "  <tbody>\n",
       "    <tr>\n",
       "      <th>0</th>\n",
       "      <td>KNN</td>\n",
       "      <td>0.691569</td>\n",
       "    </tr>\n",
       "    <tr>\n",
       "      <th>1</th>\n",
       "      <td>RF</td>\n",
       "      <td>0.595861</td>\n",
       "    </tr>\n",
       "    <tr>\n",
       "      <th>2</th>\n",
       "      <td>LR</td>\n",
       "      <td>0.683927</td>\n",
       "    </tr>\n",
       "    <tr>\n",
       "      <th>3</th>\n",
       "      <td>PR</td>\n",
       "      <td>0.684187</td>\n",
       "    </tr>\n",
       "  </tbody>\n",
       "</table>\n",
       "</div>"
      ],
      "text/plain": [
       "  Name     Score\n",
       "0  KNN  0.691569\n",
       "1   RF  0.595861\n",
       "2   LR  0.683927\n",
       "3   PR  0.684187"
      ]
     },
     "execution_count": 107,
     "metadata": {},
     "output_type": "execute_result"
    }
   ],
   "source": [
    "scores_df =  pd.DataFrame({'Name': ['KNN', 'RF', 'LR', 'PR'], 'Score': [score_knn, score_RF, LR_score, poly_score]})\n",
    "scores_df"
   ]
  },
  {
   "cell_type": "code",
   "execution_count": 108,
   "id": "9e32870a",
   "metadata": {},
   "outputs": [
    {
     "data": {
      "image/png": "[encoded data removed]",
      "text/plain": [
       "<Figure size 432x288 with 1 Axes>"
      ]
     },
     "metadata": {
      "needs_background": "light"
     },
     "output_type": "display_data"
    }
   ],
   "source": [
    "#plotting scores of each algorithm \n",
    "\n",
    "import seaborn as sns\n",
    "import matplotlib.pyplot as plt\n",
    "\n",
    "axis = sns.barplot(x = 'Name', y = 'Score', data = scores_df)\n",
    "axis.set(xlabel='Classifier', ylabel='Accuracy')\n",
    "\n",
    "for p in axis.patches:\n",
    "    height = p.get_height()\n",
    "    axis.text(p.get_x() + p.get_width()/2, height + 0.005, '{:1.4f}'.format(height), ha=\"center\") \n",
    "\n",
    "plt.title('accuracy score of each model')    \n",
    "plt.show()"
   ]
  },
  {
   "cell_type": "markdown",
   "id": "2d819aaa",
   "metadata": {},
   "source": [
    "Based on our results it seems that K Nearest Neighbor has the best results \n",
    "We will work on optimizing the results by finding the best parameters "
   ]
  },
  {
   "cell_type": "code",
   "execution_count": 109,
   "id": "08e8a66f",
   "metadata": {},
   "outputs": [
    {
     "data": {
      "image/png": "[encoded data removed]",
      "text/plain": [
       "<Figure size 432x288 with 1 Axes>"
      ]
     },
     "metadata": {
      "needs_background": "light"
     },
     "output_type": "display_data"
    }
   ],
   "source": [
    "#-2 Let's run K nearest Neighbers with different values of n= (range (1,50)) to get n value with the best accuracy\n",
    "  \n",
    "KNN = pd.DataFrame({'Neighbors': np.arange(50) , 'Score': scores})\n",
    "\n",
    "KNN.plot(x ='Neighbors', y='Score', kind = 'scatter')\n",
    "plt.show()"
   ]
  },
  {
   "cell_type": "markdown",
   "id": "0b205e2f",
   "metadata": {},
   "source": [
    "it seems that best results is achieved for N in the range [3,7]"
   ]
  },
  {
   "cell_type": "code",
   "execution_count": 110,
   "id": "bd31409f",
   "metadata": {},
   "outputs": [
    {
     "data": {
      "text/plain": [
       "GridSearchCV(cv=5, estimator=KNeighborsRegressor(),\n",
       "             param_grid={'metric': ['euclidean', 'manhattan'],\n",
       "                         'n_neighbors': array([ 1,  2,  3,  4,  5,  6,  7,  8,  9, 10, 11, 12, 13, 14, 15, 16, 17,\n",
       "       18, 19, 20, 21, 22, 23, 24, 25, 26, 27, 28, 29, 30, 31, 32, 33, 34,\n",
       "       35, 36, 37, 38, 39, 40, 41, 42, 43, 44, 45, 46, 47, 48, 49])})"
      ]
     },
     "execution_count": 110,
     "metadata": {},
     "output_type": "execute_result"
    }
   ],
   "source": [
    "#Grid Search CV to test other hyper-parameters and in order to obtain the parameters that output the best score\n",
    "from sklearn.neighbors import KNeighborsRegressor\n",
    "from sklearn.model_selection import GridSearchCV\n",
    "\n",
    "param_grid = {'n_neighbors' : np.arange(1, 50), 'metric' : ['euclidean', 'manhattan']}\n",
    "\n",
    "grid = GridSearchCV(KNeighborsRegressor(), param_grid , cv = 5)\n",
    "grid.fit(X_train, y_train)"
   ]
  },
  {
   "cell_type": "code",
   "execution_count": 111,
   "id": "080efc55",
   "metadata": {},
   "outputs": [
    {
     "data": {
      "text/plain": [
       "{'metric': 'manhattan', 'n_neighbors': 3}"
      ]
     },
     "execution_count": 111,
     "metadata": {},
     "output_type": "execute_result"
    }
   ],
   "source": [
    "grid.best_params_ #best parameters"
   ]
  },
  {
   "cell_type": "code",
   "execution_count": 112,
   "id": "5025aa00",
   "metadata": {},
   "outputs": [],
   "source": [
    "#our Final Model is : \n",
    "model_Final =grid.best_estimator_"
   ]
  },
  {
   "cell_type": "code",
   "execution_count": null,
   "id": "ec626deb",
   "metadata": {},
   "outputs": [],
   "source": []
  }
 ],
 "metadata": {
  "kernelspec": {
   "display_name": "Python 3",
   "language": "python",
   "name": "python3"
  },
  "language_info": {
   "codemirror_mode": {
    "name": "ipython",
    "version": 3
   },
   "file_extension": ".py",
   "mimetype": "text/x-python",
   "name": "python",
   "nbconvert_exporter": "python",
   "pygments_lexer": "ipython3",
   "version": "3.8.8"
  }
 },
 "nbformat": 4,
 "nbformat_minor": 5
}
